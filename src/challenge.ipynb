{
 "cells": [
  {
   "cell_type": "markdown",
   "metadata": {},
   "source": [
    "En este archivo puedes escribir lo que estimes conveniente. Te recomendamos detallar tu solución y todas las suposiciones que estás considerando. Aquí puedes ejecutar las funciones que definiste en los otros archivos de la carpeta src, medir el tiempo, memoria, etc."
   ]
  },
  {
   "cell_type": "code",
   "execution_count": 10,
   "metadata": {},
   "outputs": [],
   "source": [
    "file_path = \"farmers-protest-tweets-2021-2-4.json\""
   ]
  },
  {
   "cell_type": "code",
   "execution_count": 28,
   "metadata": {},
   "outputs": [],
   "source": [
    "file_path = f\"../{file_path}\""
   ]
  },
  {
   "cell_type": "markdown",
   "metadata": {},
   "source": [
    "# 1. Análisis de Tweets: Función `q1_memory`\n",
    "\n",
    "Este sección contiene la implementación y análisis de la función `q1_memory`, que procesa un archivo de tweets en formato JSON, extrayendo la información sobre el número de tweets por usuario en las fechas más relevantes. El objetivo es identificar los 10 días con más actividad y el usuario más activo de esos días enfocado en optimizar el uso de memoria."
   ]
  },
  {
   "cell_type": "code",
   "execution_count": 25,
   "metadata": {},
   "outputs": [],
   "source": [
    "#Importación de librerias\n",
    "import json\n",
    "from typing import List, Tuple\n",
    "import datetime\n",
    "from collections import defaultdict, Counter\n",
    "from dateutil import parser\n",
    "from itertools import islice\n",
    "import time\n",
    "from memory_profiler import memory_usage"
   ]
  },
  {
   "cell_type": "markdown",
   "metadata": {},
   "source": [
    "## Descripción de la Función `q1_memory`\n",
    "\n",
    "La función `q1_memory` toma como entrada la ruta de un archivo que contiene tweets en formato JSON. Su propósito es:\n",
    "- Leer el archivo línea por línea.\n",
    "- Extraer la fecha de cada tweet y el nombre de usuario del autor.\n",
    "- Contar la cantidad de tweets por usuario en cada fecha.\n",
    "- Retornar las 10 fechas con más tweets junto con el usuario más activo en esas fechas.\n",
    "\n",
    "### Parámetros\n",
    "- `file_path`: Ruta del archivo que contiene los tweets.\n",
    "\n",
    "### Retorno\n",
    "- Una lista de tuplas, donde cada tupla contiene una fecha y el nombre del usuario más activo en esa fecha."
   ]
  },
  {
   "cell_type": "markdown",
   "metadata": {},
   "source": [
    "### 1.1 Implementación de la función:"
   ]
  },
  {
   "cell_type": "code",
   "execution_count": 64,
   "metadata": {},
   "outputs": [],
   "source": [
    "def q1_memory(file_path: str) -> List[Tuple[datetime.date, str]]:\n",
    "    # Inicializa un diccionario para contar tweets por fecha y usuario.\n",
    "    date_user_counts = defaultdict(lambda: Counter())\n",
    "\n",
    "    # Intenta abrir el archivo proporcionado en la ruta 'file_path'\n",
    "    try:\n",
    "        with open(file_path, 'r') as file:\n",
    "            # Itera sobre cada línea del archivo\n",
    "            for line in islice(file, None):  # 'islice' permite leer línea por línea\n",
    "                try:\n",
    "                    # Intenta cargar la línea como un objeto JSON\n",
    "                    tweet = json.loads(line.strip())\n",
    "                    # Extrae la fecha del tweet y convierte a objeto 'date'\n",
    "                    tweet_date = parser.parse(tweet['date']).date()\n",
    "                    # Extrae el nombre de usuario del tweet\n",
    "                    username = tweet['user']['username']\n",
    "\n",
    "                    # Verifica que el nombre de usuario no esté vacío\n",
    "                    if username:\n",
    "                        # Incrementa el contador de tweets para esa fecha y usuario\n",
    "                        date_user_counts[tweet_date][username] += 1\n",
    "                    else:\n",
    "                        # Imprime advertencia si el nombre de usuario está vacío\n",
    "                        print(f\"Advertencia: Username vacío en el tweet de la fecha {tweet_date}\")\n",
    "\n",
    "                except json.JSONDecodeError as e:\n",
    "                    # Manejo de error para problemas de decodificación JSON\n",
    "                    print(f\"Error al decodificar JSON en la línea: {line}. Error: {e}\")\n",
    "                except KeyError as e:\n",
    "                    # Manejo de error si falta alguna clave esperada en el tweet\n",
    "                    print(f\"Error: Falta la clave esperada {e} en el tweet: {tweet}\")\n",
    "\n",
    "    except FileNotFoundError:\n",
    "        # Manejo de error si el archivo no se encuentra\n",
    "        print(f\"Error: El archivo {file_path} no fue encontrado.\")\n",
    "        return []  # Retorna lista vacía si no se encuentra el archivo\n",
    "    except Exception as e:\n",
    "        # Manejo de errores inesperados\n",
    "        print(f\"Error inesperado al abrir el archivo: {e}\")\n",
    "        return []  # Retorna lista vacía en caso de error inesperado\n",
    "\n",
    "    # Ordena las fechas y obtiene las 10 con más tweets\n",
    "    top_dates = sorted(date_user_counts.items(), key=lambda x: sum(x[1].values()), reverse=True)[:10]\n",
    "    \n",
    "    result = []  # Inicializa la lista para almacenar resultados\n",
    "    for date_, user_counts in top_dates:\n",
    "        if user_counts:\n",
    "            # Obtiene el usuario más activo de la fecha actual\n",
    "            most_common_user = user_counts.most_common(1)[0][0]\n",
    "            # Añade la tupla (fecha, usuario) a los resultados\n",
    "            result.append((date_, most_common_user))\n",
    "        else:\n",
    "            # Imprime advertencia si no hay usuarios para la fecha\n",
    "            print(f\"Advertencia: No hay usuarios para la fecha {date_}\")\n",
    "    \n",
    "    return result  # Retorna la lista de resultados\n"
   ]
  },
  {
   "cell_type": "markdown",
   "metadata": {},
   "source": [
    "### 1.2 Ejecución función q1_memory"
   ]
  },
  {
   "cell_type": "code",
   "execution_count": 65,
   "metadata": {},
   "outputs": [
    {
     "data": {
      "text/plain": [
       "[(datetime.date(2021, 2, 12), 'RanbirS00614606'),\n",
       " (datetime.date(2021, 2, 13), 'MaanDee08215437'),\n",
       " (datetime.date(2021, 2, 17), 'RaaJVinderkaur'),\n",
       " (datetime.date(2021, 2, 16), 'jot__b'),\n",
       " (datetime.date(2021, 2, 14), 'rebelpacifist'),\n",
       " (datetime.date(2021, 2, 18), 'neetuanjle_nitu'),\n",
       " (datetime.date(2021, 2, 15), 'jot__b'),\n",
       " (datetime.date(2021, 2, 20), 'MangalJ23056160'),\n",
       " (datetime.date(2021, 2, 23), 'Surrypuria'),\n",
       " (datetime.date(2021, 2, 19), 'Preetm91')]"
      ]
     },
     "execution_count": 65,
     "metadata": {},
     "output_type": "execute_result"
    }
   ],
   "source": [
    "result = q1_memory(file_path)\n",
    "result"
   ]
  },
  {
   "cell_type": "markdown",
   "metadata": {},
   "source": [
    "### 1.3 Medición del Tiempo de Ejecución y uso de memoria"
   ]
  },
  {
   "cell_type": "code",
   "execution_count": 66,
   "metadata": {},
   "outputs": [
    {
     "name": "stdout",
     "output_type": "stream",
     "text": [
      "Tiempo de ejecución: 5.42 segundos\n",
      "Uso de memoria: 0.30 MiB\n"
     ]
    }
   ],
   "source": [
    "# Comienza a medir el tiempo de ejecución\n",
    "start_time = time.time()\n",
    "\n",
    "# Medición del uso de memoria: pasa la función y los argumentos como una tupla\n",
    "mem_usage = memory_usage((q1_memory, (file_path,)), interval=0.1)\n",
    "\n",
    "# Termina la medición de tiempo\n",
    "end_time = time.time()\n",
    "\n",
    "# Calcula el tiempo de ejecución\n",
    "execution_time = end_time - start_time\n",
    "# Calcula el uso de memoria\n",
    "memory_used = max(mem_usage) - min(mem_usage)\n",
    "\n",
    "# Imprime los resultados\n",
    "print(f\"Tiempo de ejecución: {execution_time:.2f} segundos\")\n",
    "print(f\"Uso de memoria: {memory_used:.2f} MiB\")"
   ]
  },
  {
   "cell_type": "markdown",
   "metadata": {},
   "source": [
    "### 1.4 Suposiciones y Consideraciones\n",
    "1. **Formato de Archivo**: Se asume que el archivo JSON está bien formado y cada línea representa un tweet válido.\n",
    "2. **Estructura del JSON**: Se espera que cada tweet contenga las claves `date` y `user.username`.\n",
    "3. **Manejo de Errores**: La función incluye manejos básicos de errores para asegurar que los problemas en el archivo no causen que la función falle completamente.\n",
    "4. **Eficiencia**: Se utiliza `defaultdict` y `Counter` para facilitar el conteo de tweets por usuario."
   ]
  },
  {
   "cell_type": "markdown",
   "metadata": {},
   "source": [
    "# 2. Análisis de Tweets: Función `q1_time`\n",
    "\n",
    "Esta sección contiene la implementación y análisis de la función `q1_time`, que procesa un archivo de tweets en formato JSON, extrayendo la información sobre el número de tweets por usuario en las fechas más relevantes. El objetivo es identificar los 10 días con más actividad y el usuario más activo de esos días enfocado en optimizar el tiempo de ejecución."
   ]
  },
  {
   "cell_type": "code",
   "execution_count": 27,
   "metadata": {},
   "outputs": [],
   "source": [
    "# Importación de librerias\n",
    "from typing import List, Tuple\n",
    "import ujson\n",
    "from collections import defaultdict\n",
    "from datetime import datetime\n",
    "from dateutil import parser\n",
    "import heapq\n",
    "from memory_profiler import memory_usage\n",
    "import time"
   ]
  },
  {
   "cell_type": "markdown",
   "metadata": {},
   "source": [
    "## Descripción de la Función `q1_time`\n",
    "\n",
    "La función `q1_time` toma como entrada la ruta de un archivo que contiene tweets en formato JSON. Su propósito es:\n",
    "- Leer el archivo línea por línea.\n",
    "- Extraer la fecha de cada tweet y el nombre de usuario del autor.\n",
    "- Contar la cantidad de tweets por usuario en cada fecha.\n",
    "- Retornar las 10 fechas con más tweets junto con el usuario más activo en esas fechas.\n",
    "\n",
    "### Parámetros\n",
    "- `file_path`: Ruta del archivo que contiene los tweets.\n",
    "\n",
    "### Retorno\n",
    "- Una lista de tuplas, donde cada tupla contiene una fecha y el nombre del usuario más activo en esa fecha.\n"
   ]
  },
  {
   "cell_type": "markdown",
   "metadata": {},
   "source": [
    "### 2.1 Implementación de la función:"
   ]
  },
  {
   "cell_type": "code",
   "execution_count": 68,
   "metadata": {},
   "outputs": [],
   "source": [
    "def q1_time(file_path: str) -> List[Tuple[datetime.date, str]]:\n",
    "    # Usamos un defaultdict para contar la cantidad de tweets por usuario en cada fecha\n",
    "    date_user_counts = defaultdict(lambda: defaultdict(int))\n",
    "\n",
    "    # Lectura del archivo línea por línea\n",
    "    try:\n",
    "        with open(file_path, 'r') as file:\n",
    "            for line in file:  # Iterar directamente sobre el archivo\n",
    "                try:\n",
    "                    # Uso de ujson para mejorar la velocidad en la carga de JSON\n",
    "                    tweet = ujson.loads(line.strip())\n",
    "                    # Parsear la fecha del tweet y convertirla a un objeto de fecha\n",
    "                    tweet_date = parser.parse(tweet['date']).date()\n",
    "                    # Extraer el nombre de usuario\n",
    "                    username = tweet['user']['username']\n",
    "\n",
    "                    # Asegurarse de que username no esté vacío o sea None\n",
    "                    if username:\n",
    "                        # Incrementar el conteo de tweets del usuario para esa fecha\n",
    "                        date_user_counts[tweet_date][username] += 1\n",
    "                    else:\n",
    "                        print(f\"Advertencia: Username vacío en el tweet de la fecha {tweet_date}\")\n",
    "\n",
    "                except ujson.JSONDecodeError as e:\n",
    "                    print(f\"Error al decodificar JSON en la línea: {line}. Error: {e}\")\n",
    "                except KeyError as e:\n",
    "                    print(f\"Error: Falta la clave esperada {e} en el tweet: {tweet}\")\n",
    "\n",
    "    except FileNotFoundError:\n",
    "        print(f\"Error: El archivo {file_path} no fue encontrado.\")\n",
    "        return []\n",
    "    except Exception as e:\n",
    "        print(f\"Error inesperado al abrir el archivo: {e}\")\n",
    "        return []\n",
    "\n",
    "    # Mantener solo los 10 días con más tweets\n",
    "    top_dates = []\n",
    "    \n",
    "    # Iterar sobre los conteos de usuarios por fecha\n",
    "    for date_, user_counts in date_user_counts.items():\n",
    "        total_tweets = sum(user_counts.values())  # Contar el total de tweets en esa fecha\n",
    "        \n",
    "        # Usar un heap para mantener solo los 10 días con más tweets\n",
    "        if len(top_dates) < 10:\n",
    "            # Agregar el día actual al heap\n",
    "            heapq.heappush(top_dates, (total_tweets, date_, user_counts))\n",
    "        else:\n",
    "            # Reemplazar el día con menos tweets si el nuevo día tiene más\n",
    "            heapq.heappushpop(top_dates, (total_tweets, date_, user_counts))\n",
    "\n",
    "    # Obtener los resultados finales\n",
    "    result = []\n",
    "    for total, date_, user_counts in top_dates:\n",
    "        if user_counts:  # Verificar que user_counts no esté vacío\n",
    "            # Encontrar el usuario más común en esa fecha\n",
    "            most_common_user = max(user_counts.items(), key=lambda item: item[1])[0]\n",
    "            result.append((date_, most_common_user))  # Agregar el resultado\n",
    "        else:\n",
    "            print(f\"Advertencia: No hay usuarios para la fecha {date_}\")\n",
    "\n",
    "    # Ordenar el resultado por fecha\n",
    "    result.sort(key=lambda x: x[0])\n",
    "    \n",
    "    return result"
   ]
  },
  {
   "cell_type": "markdown",
   "metadata": {},
   "source": [
    "### 2.2 Ejecución función q1_time"
   ]
  },
  {
   "cell_type": "code",
   "execution_count": 35,
   "metadata": {},
   "outputs": [
    {
     "name": "stdout",
     "output_type": "stream",
     "text": [
      "Resultado: [(datetime.date(2021, 2, 12), 'RanbirS00614606'), (datetime.date(2021, 2, 13), 'MaanDee08215437'), (datetime.date(2021, 2, 14), 'rebelpacifist'), (datetime.date(2021, 2, 15), 'jot__b'), (datetime.date(2021, 2, 16), 'jot__b'), (datetime.date(2021, 2, 17), 'RaaJVinderkaur'), (datetime.date(2021, 2, 18), 'neetuanjle_nitu'), (datetime.date(2021, 2, 19), 'Preetm91'), (datetime.date(2021, 2, 20), 'MangalJ23056160'), (datetime.date(2021, 2, 23), 'Surrypuria')]\n"
     ]
    },
    {
     "data": {
      "text/plain": [
       "[(datetime.date(2021, 2, 12), 'RanbirS00614606'),\n",
       " (datetime.date(2021, 2, 13), 'MaanDee08215437'),\n",
       " (datetime.date(2021, 2, 14), 'rebelpacifist'),\n",
       " (datetime.date(2021, 2, 15), 'jot__b'),\n",
       " (datetime.date(2021, 2, 16), 'jot__b'),\n",
       " (datetime.date(2021, 2, 17), 'RaaJVinderkaur'),\n",
       " (datetime.date(2021, 2, 18), 'neetuanjle_nitu'),\n",
       " (datetime.date(2021, 2, 19), 'Preetm91'),\n",
       " (datetime.date(2021, 2, 20), 'MangalJ23056160'),\n",
       " (datetime.date(2021, 2, 23), 'Surrypuria')]"
      ]
     },
     "execution_count": 35,
     "metadata": {},
     "output_type": "execute_result"
    }
   ],
   "source": [
    "result = q1_time(file_path)\n",
    "result"
   ]
  },
  {
   "cell_type": "markdown",
   "metadata": {},
   "source": [
    "### 2.3 Medición del Tiempo de Ejecución y uso de memoria"
   ]
  },
  {
   "cell_type": "code",
   "execution_count": 69,
   "metadata": {},
   "outputs": [
    {
     "name": "stdout",
     "output_type": "stream",
     "text": [
      "Tiempo de ejecución: 4.67 segundos\n",
      "Uso de memoria: 0.56 MiB\n"
     ]
    }
   ],
   "source": [
    "# Comienza a medir el tiempo de ejecución\n",
    "start_time = time.time()\n",
    "\n",
    "# Medición del uso de memoria: pasa la función y los argumentos como una tupla\n",
    "mem_usage = memory_usage((q1_time, (file_path,)), interval=0.1)\n",
    "\n",
    "# Termina la medición de tiempo\n",
    "end_time = time.time()\n",
    "\n",
    "# Calcula el tiempo de ejecución\n",
    "execution_time = end_time - start_time\n",
    "# Calcula el uso de memoria\n",
    "memory_used = max(mem_usage) - min(mem_usage)\n",
    "\n",
    "# Imprime los resultados\n",
    "print(f\"Tiempo de ejecución: {execution_time:.2f} segundos\")\n",
    "print(f\"Uso de memoria: {memory_used:.2f} MiB\")"
   ]
  },
  {
   "cell_type": "markdown",
   "metadata": {},
   "source": [
    "### 2.4 Suposiciones y Consideraciones\n",
    "\n",
    "1. **Formato de Archivo**: Se asume que el archivo JSON está bien formado y cada línea representa un tweet válido.\n",
    "2. **Estructura del JSON**: Se espera que cada tweet contenga las claves `date` y `user.username`.\n",
    "3. **Manejo de Errores**: La función incluye manejos básicos de errores para asegurar que los problemas en el archivo no causen que la función falle completamente.\n",
    "4. **Eficiencia**: Se utiliza `defaultdict` y `heapq` para facilitar el conteo de tweets por usuario y mantener solo los días más relevantes, respectivamente.\n"
   ]
  },
  {
   "cell_type": "markdown",
   "metadata": {},
   "source": [
    "# 3. Análisis de Emojis en Tweets: Función `q2_memory`\n",
    "\n",
    "Esta sección contiene la implementación y análisis de la función `q2_memory`, que procesa un archivo de tweets en formato JSON para contar la frecuencia de los emojis utilizados. El objetivo es identificar los 10 emojis más comunes en los tweets analizados enfocado en optimizar el uso de memoria.\n"
   ]
  },
  {
   "cell_type": "code",
   "execution_count": 70,
   "metadata": {},
   "outputs": [],
   "source": [
    "#Importación de librerias\n",
    "from typing import List, Tuple\n",
    "import json\n",
    "from collections import Counter\n",
    "import emoji\n",
    "import time\n",
    "from memory_profiler import memory_usage"
   ]
  },
  {
   "cell_type": "markdown",
   "metadata": {},
   "source": [
    "## Descripción de la Función `q2_memory`\n",
    "\n",
    "La función `q2_memory` toma como entrada la ruta de un archivo que contiene tweets en formato JSON y su propósito es:\n",
    "- Leer el archivo línea por línea.\n",
    "- Extraer el contenido de cada tweet y contar los emojis presentes.\n",
    "- Retornar los 10 emojis más utilizados.\n",
    "\n",
    "### Parámetros\n",
    "- `file_path`: Ruta del archivo que contiene los tweets.\n",
    "\n",
    "### Retorno\n",
    "- Una lista de tuplas, donde cada tupla contiene un emoji y su frecuencia de uso.\n"
   ]
  },
  {
   "cell_type": "markdown",
   "metadata": {},
   "source": [
    "### 3.1 Implementación de la función:"
   ]
  },
  {
   "cell_type": "code",
   "execution_count": 42,
   "metadata": {},
   "outputs": [],
   "source": [
    "def q2_memory(file_path: str) -> List[Tuple[str, int]]:\n",
    "    # Contador para almacenar la frecuencia de cada emoji\n",
    "    emoji_counter = Counter()\n",
    "\n",
    "    try:\n",
    "        # Abrir el archivo en modo lectura con codificación UTF-8\n",
    "        with open(file_path, 'r', encoding='utf-8') as file:\n",
    "            # Iterar sobre cada línea del archivo\n",
    "            for line in file:\n",
    "                # Procesar solo líneas no vacías\n",
    "                if line.strip():  \n",
    "                    try:\n",
    "                        # Intentar cargar el tweet como un objeto JSON\n",
    "                        tweet = json.loads(line)\n",
    "                        # Obtener el contenido del tweet, por defecto vacío si no existe\n",
    "                        content = tweet.get('content', '')\n",
    "\n",
    "                        # Contar los emojis presentes en el contenido del tweet\n",
    "                        # emoji.emoji_list retorna una lista de emojis encontrados\n",
    "                        for e in emoji.emoji_list(content):\n",
    "                            emoji_counter[e['emoji']] += 1  # Incrementar el contador para cada emoji\n",
    "                        \n",
    "                    except json.JSONDecodeError as e:\n",
    "                        # Manejar errores de decodificación JSON\n",
    "                        print(f\"Error al decodificar JSON en la línea: {line}. Error: {e}\")\n",
    "                    except Exception as e:\n",
    "                        # Manejar cualquier otro error inesperado\n",
    "                        print(f\"Error inesperado al procesar la línea: {line}. Error: {e}\")\n",
    "\n",
    "    except FileNotFoundError:\n",
    "        # Manejar el caso en que el archivo no se encuentra\n",
    "        print(f\"Error: El archivo {file_path} no fue encontrado.\")\n",
    "        return []\n",
    "    except Exception as e:\n",
    "        # Manejar errores inesperados al abrir el archivo\n",
    "        print(f\"Error inesperado al abrir el archivo: {e}\")\n",
    "        return []\n",
    "\n",
    "    # Obtener los 10 emojis más comunes\n",
    "    top_emojis = emoji_counter.most_common(10)\n",
    "\n",
    "    # Imprimir el resultado de los 10 emojis más comunes\n",
    "    return top_emojis\n"
   ]
  },
  {
   "cell_type": "markdown",
   "metadata": {},
   "source": [
    "### 3.2 Ejecución función q2_memory"
   ]
  },
  {
   "cell_type": "code",
   "execution_count": 40,
   "metadata": {},
   "outputs": [
    {
     "name": "stdout",
     "output_type": "stream",
     "text": [
      "Top 10 emojis: [('🙏', 5049), ('😂', 3072), ('🚜', 2972), ('🌾', 2182), ('🇮🇳', 2086), ('🤣', 1668), ('✊', 1651), ('❤️', 1382), ('🙏🏻', 1317), ('💚', 1040)]\n"
     ]
    },
    {
     "data": {
      "text/plain": [
       "[('🙏', 5049),\n",
       " ('😂', 3072),\n",
       " ('🚜', 2972),\n",
       " ('🌾', 2182),\n",
       " ('🇮🇳', 2086),\n",
       " ('🤣', 1668),\n",
       " ('✊', 1651),\n",
       " ('❤️', 1382),\n",
       " ('🙏🏻', 1317),\n",
       " ('💚', 1040)]"
      ]
     },
     "execution_count": 40,
     "metadata": {},
     "output_type": "execute_result"
    }
   ],
   "source": [
    "result = q2_memory(file_path)\n",
    "result"
   ]
  },
  {
   "cell_type": "markdown",
   "metadata": {},
   "source": [
    "### 3.3 Medición del Tiempo de Ejecución y uso de memoria"
   ]
  },
  {
   "cell_type": "code",
   "execution_count": 43,
   "metadata": {},
   "outputs": [
    {
     "name": "stdout",
     "output_type": "stream",
     "text": [
      "Tiempo de ejecución: 8.83 segundos\n",
      "Uso de memoria: 0.25 MiB\n"
     ]
    }
   ],
   "source": [
    "# Comienza a medir el tiempo de ejecución\n",
    "start_time = time.time()\n",
    "\n",
    "# Medición del uso de memoria: pasa la función y los argumentos como una tupla\n",
    "mem_usage = memory_usage((q2_memory, (file_path,)), interval=0.1)\n",
    "\n",
    "# Termina la medición de tiempo\n",
    "end_time = time.time()\n",
    "\n",
    "# Calcula el tiempo de ejecución\n",
    "execution_time = end_time - start_time\n",
    "# Calcula el uso de memoria\n",
    "memory_used = max(mem_usage) - min(mem_usage)\n",
    "\n",
    "# Imprime los resultados\n",
    "print(f\"Tiempo de ejecución: {execution_time:.2f} segundos\")\n",
    "print(f\"Uso de memoria: {memory_used:.2f} MiB\")"
   ]
  },
  {
   "cell_type": "markdown",
   "metadata": {},
   "source": [
    "### 3.4 Suposiciones y Consideraciones\n",
    "\n",
    "1. **Formato de Archivo**: Se asume que el archivo JSON está bien formado y cada línea representa un tweet válido.\n",
    "2. **Estructura del JSON**: Se espera que cada tweet contenga la clave `content`, que representa el texto del tweet.\n",
    "3. **Manejo de Errores**: La función incluye manejos básicos de errores para asegurar que los problemas en el archivo no causen que la función falle completamente.\n",
    "4. **Eficiencia**: Se utiliza `Counter` para facilitar el conteo de emojis, evitando la necesidad de crear una lista intermedia.\n"
   ]
  },
  {
   "cell_type": "markdown",
   "metadata": {},
   "source": [
    "# 4. Análisis de Emojis en Tweets: Función `q2_time`\n",
    "\n",
    "Esta sección contiene la implementación y análisis de la función `q2_time`, que procesa un archivo de tweets en formato JSON, extrayendo y contando la frecuencia de los emojis utilizados. El objetivo es identificar los 10 emojis más comunes en el contenido de los tweets enfocado en optimizar el tiempo de ejecución.\n"
   ]
  },
  {
   "cell_type": "code",
   "execution_count": 44,
   "metadata": {},
   "outputs": [],
   "source": [
    "#Importaciones\n",
    "from typing import List, Tuple\n",
    "import json\n",
    "from collections import Counter\n",
    "import emoji\n",
    "import time\n",
    "from memory_profiler import memory_usage\n"
   ]
  },
  {
   "cell_type": "markdown",
   "metadata": {},
   "source": [
    "## Descripción de la Función `q2_time`\n",
    "\n",
    "La función `q2_time` toma como entrada la ruta de un archivo que contiene tweets en formato JSON. Su propósito es:\n",
    "- Leer el archivo línea por línea.\n",
    "- Extraer el contenido de cada tweet y contar la cantidad de emojis utilizados.\n",
    "- Retornar los 10 emojis más comunes junto con sus respectivas frecuencias.\n",
    "\n",
    "### Parámetros\n",
    "- `file_path`: Ruta del archivo que contiene los tweets.\n",
    "\n",
    "### Retorno\n",
    "- Una lista de tuplas, donde cada tupla contiene un emoji y su frecuencia en el contenido de los tweets.\n"
   ]
  },
  {
   "cell_type": "markdown",
   "metadata": {},
   "source": [
    "### 4.1 Implementación de la función:"
   ]
  },
  {
   "cell_type": "code",
   "execution_count": 49,
   "metadata": {},
   "outputs": [],
   "source": [
    "def q2_time(file_path: str) -> List[Tuple[str, int]]:\n",
    "    # Contador para almacenar la frecuencia de los emojis\n",
    "    emoji_counter = Counter()\n",
    "\n",
    "    # Intentar abrir el archivo con codificación UTF-8\n",
    "    try:\n",
    "        with open(file_path, 'r', encoding='utf-8') as file:\n",
    "            # Leer el archivo línea por línea\n",
    "            for line in file:\n",
    "                if line.strip():  # Procesar solo líneas no vacías\n",
    "                    try:\n",
    "                        # Cargar el contenido de cada línea como un objeto JSON\n",
    "                        tweet = json.loads(line)\n",
    "                        content = tweet.get('content', '')  # Obtener el contenido del tweet\n",
    "                        \n",
    "                        # Usar emoji.emoji_list() para obtener todos los emojis en el contenido\n",
    "                        emojis_in_tweet = [e['emoji'] for e in emoji.emoji_list(content)]\n",
    "                        # Actualizar el contador con los emojis encontrados\n",
    "                        emoji_counter.update(emojis_in_tweet)\n",
    "\n",
    "                    except json.JSONDecodeError as e:\n",
    "                        print(f\"Error al decodificar JSON en la línea: {line}. Error: {e}\")\n",
    "                    except KeyError as e:\n",
    "                        print(f\"Error: Falta la clave esperada {e} en el tweet: {tweet}\")\n",
    "                    except Exception as e:\n",
    "                        print(f\"Error inesperado al procesar la línea: {line}. Error: {e}\")\n",
    "\n",
    "    except FileNotFoundError:\n",
    "        print(f\"Error: El archivo {file_path} no fue encontrado.\")\n",
    "        return []\n",
    "    except Exception as e:\n",
    "        print(f\"Error inesperado al abrir el archivo: {e}\")\n",
    "        return []\n",
    "\n",
    "    # Obtener los 10 emojis más comunes y sus frecuencias\n",
    "    top_emojis = emoji_counter.most_common(10)\n",
    "\n",
    "    return top_emojis\n"
   ]
  },
  {
   "cell_type": "markdown",
   "metadata": {},
   "source": [
    "### 4.2 Ejecución función q2_time"
   ]
  },
  {
   "cell_type": "code",
   "execution_count": 47,
   "metadata": {},
   "outputs": [
    {
     "name": "stdout",
     "output_type": "stream",
     "text": [
      "Top 10 emojis: [('🙏', 5049), ('😂', 3072), ('🚜', 2972), ('🌾', 2182), ('🇮🇳', 2086), ('🤣', 1668), ('✊', 1651), ('❤️', 1382), ('🙏🏻', 1317), ('💚', 1040)]\n"
     ]
    },
    {
     "data": {
      "text/plain": [
       "[('🙏', 5049),\n",
       " ('😂', 3072),\n",
       " ('🚜', 2972),\n",
       " ('🌾', 2182),\n",
       " ('🇮🇳', 2086),\n",
       " ('🤣', 1668),\n",
       " ('✊', 1651),\n",
       " ('❤️', 1382),\n",
       " ('🙏🏻', 1317),\n",
       " ('💚', 1040)]"
      ]
     },
     "execution_count": 47,
     "metadata": {},
     "output_type": "execute_result"
    }
   ],
   "source": [
    "result = q2_time(file_path)\n",
    "result"
   ]
  },
  {
   "cell_type": "markdown",
   "metadata": {},
   "source": [
    "### 4.3 Medición del Tiempo de Ejecución y uso de memoria"
   ]
  },
  {
   "cell_type": "code",
   "execution_count": 72,
   "metadata": {},
   "outputs": [
    {
     "name": "stdout",
     "output_type": "stream",
     "text": [
      "Tiempo de ejecución: 8.50 segundos\n",
      "Uso de memoria: 0.86 MiB\n"
     ]
    }
   ],
   "source": [
    "# Comienza a medir el tiempo de ejecución\n",
    "start_time = time.time()\n",
    "\n",
    "# Medición del uso de memoria: pasa la función y los argumentos como una tupla\n",
    "mem_usage = memory_usage((q2_time, (file_path,)), interval=0.1)\n",
    "\n",
    "# Termina la medición de tiempo\n",
    "end_time = time.time()\n",
    "\n",
    "# Calcula el tiempo de ejecución\n",
    "execution_time = end_time - start_time\n",
    "# Calcula el uso de memoria\n",
    "memory_used = max(mem_usage) - min(mem_usage)\n",
    "\n",
    "# Imprime los resultados\n",
    "print(f\"Tiempo de ejecución: {execution_time:.2f} segundos\")\n",
    "print(f\"Uso de memoria: {memory_used:.2f} MiB\")"
   ]
  },
  {
   "cell_type": "markdown",
   "metadata": {},
   "source": [
    "### 4.4 Suposiciones y Consideraciones\n",
    "\n",
    "1. **Formato de Archivo**: Se asume que el archivo JSON está bien formado y cada línea representa un tweet válido.\n",
    "2. **Estructura del JSON**: Se espera que cada tweet contenga la clave `content` para extraer el texto del tweet.\n",
    "3. **Manejo de Errores**: La función incluye manejos básicos de errores para asegurar que los problemas en el archivo no causen que la función falle completamente.\n",
    "4. **Eficiencia**: Se utiliza `Counter` para facilitar el conteo de emojis, lo que es más eficiente que implementar un conteo manual.\n"
   ]
  },
  {
   "cell_type": "markdown",
   "metadata": {},
   "source": [
    "# 5. Análisis de Menciones: Función `q3_memory`\n",
    "\n",
    "Esta sección contiene la implementación y análisis de la función `q3_memory`, que procesa un archivo de tweets en formato JSON, extrayendo información sobre los usuarios mencionados en cada tweet. El objetivo es identificar los 10 usuarios más mencionados en el conjunto de datos enfocado en optimizar el uso de memoria.\n"
   ]
  },
  {
   "cell_type": "code",
   "execution_count": 52,
   "metadata": {},
   "outputs": [],
   "source": [
    "# Importaciones necesarias\n",
    "from typing import List, Tuple\n",
    "import json\n",
    "from collections import Counter\n",
    "import time\n",
    "from memory_profiler import memory_usage"
   ]
  },
  {
   "cell_type": "markdown",
   "metadata": {},
   "source": [
    "## Descripción de la Función `q3_memory`\n",
    "\n",
    "La función `q3_memory` toma como entrada la ruta de un archivo que contiene tweets en formato JSON. Su propósito es:\n",
    "- Leer el archivo línea por línea para evitar cargar todo en memoria.\n",
    "- Extraer los usuarios mencionados en cada tweet.\n",
    "- Contar cuántas veces se menciona a cada usuario.\n",
    "- Retornar los 10 usuarios más mencionados.\n",
    "\n",
    "### Parámetros\n",
    "- `file_path`: Ruta del archivo que contiene los tweets.\n",
    "\n",
    "### Retorno\n",
    "- Una lista de tuplas, donde cada tupla contiene el nombre de usuario y el número de menciones.\n"
   ]
  },
  {
   "cell_type": "markdown",
   "metadata": {},
   "source": [
    "### 5.1 Implementación de la función:"
   ]
  },
  {
   "cell_type": "code",
   "execution_count": 56,
   "metadata": {},
   "outputs": [],
   "source": [
    "def q3_memory(file_path: str) -> List[Tuple[str, int]]:\n",
    "    # Contador para las menciones de usuarios\n",
    "    mention_counts = Counter()\n",
    "\n",
    "    try:\n",
    "        # Lectura del archivo línea por línea para no cargar todo en memoria\n",
    "        with open(file_path, 'r', encoding='utf-8') as file:\n",
    "            for line in file:\n",
    "                if line.strip():  # Procesar solo líneas no vacías\n",
    "                    try:\n",
    "                        # Decodificación del JSON\n",
    "                        tweet = json.loads(line.strip())\n",
    "                        # Obtención de usuarios mencionados en cada tweet\n",
    "                        mentioned_users = tweet.get(\"mentionedUsers\", [])\n",
    "                        \n",
    "                        if mentioned_users:  # Verifica si hay usuarios mencionados\n",
    "                            for user in mentioned_users:\n",
    "                                # Obtiene el nombre de usuario\n",
    "                                username = user.get(\"username\")\n",
    "                                if username:  # Solo contar usuarios válidos\n",
    "                                    mention_counts[username] += 1  # Incrementa el contador\n",
    "\n",
    "                    except json.JSONDecodeError as e:\n",
    "                        # Manejo de errores si hay problemas al decodificar JSON\n",
    "                        print(f\"Error al decodificar JSON en la línea: {line}. Error: {e}\")\n",
    "                    except Exception as e:\n",
    "                        # Manejo de errores inesperados\n",
    "                        print(f\"Error inesperado al procesar la línea: {line}. Error: {e}\")\n",
    "\n",
    "    except FileNotFoundError:\n",
    "        # Manejo de errores si el archivo no se encuentra\n",
    "        print(f\"Error: El archivo {file_path} no fue encontrado.\")\n",
    "        return []\n",
    "    except Exception as e:\n",
    "        # Manejo de errores inesperados al abrir el archivo\n",
    "        print(f\"Error inesperado al abrir el archivo: {e}\")\n",
    "        return []\n",
    "\n",
    "    # Obtener los 10 usuarios más mencionados\n",
    "    top_influential = mention_counts.most_common(10)\n",
    "    \n",
    "    return top_influential\n"
   ]
  },
  {
   "cell_type": "markdown",
   "metadata": {},
   "source": [
    "### 5.2 Ejecución función q3_memory"
   ]
  },
  {
   "cell_type": "code",
   "execution_count": 57,
   "metadata": {},
   "outputs": [
    {
     "data": {
      "text/plain": [
       "[('narendramodi', 2265),\n",
       " ('Kisanektamorcha', 1840),\n",
       " ('RakeshTikaitBKU', 1644),\n",
       " ('PMOIndia', 1427),\n",
       " ('RahulGandhi', 1146),\n",
       " ('GretaThunberg', 1048),\n",
       " ('RaviSinghKA', 1019),\n",
       " ('rihanna', 986),\n",
       " ('UNHumanRights', 962),\n",
       " ('meenaharris', 926)]"
      ]
     },
     "execution_count": 57,
     "metadata": {},
     "output_type": "execute_result"
    }
   ],
   "source": [
    "result = q3_memory(file_path)\n",
    "result"
   ]
  },
  {
   "cell_type": "markdown",
   "metadata": {},
   "source": [
    "### 5.3 Medición del Tiempo de Ejecución y uso de memoria"
   ]
  },
  {
   "cell_type": "code",
   "execution_count": 94,
   "metadata": {},
   "outputs": [
    {
     "name": "stdout",
     "output_type": "stream",
     "text": [
      "Tiempo de ejecución: 2.44 segundos\n",
      "Uso de memoria: 0.02 MiB\n"
     ]
    }
   ],
   "source": [
    "# Comienza a medir el tiempo de ejecución\n",
    "start_time = time.time()\n",
    "\n",
    "# Medición del uso de memoria: pasa la función y los argumentos como una tupla\n",
    "mem_usage = memory_usage((q3_memory, (file_path,)), interval=0.1)\n",
    "\n",
    "# Termina la medición de tiempo\n",
    "end_time = time.time()\n",
    "\n",
    "# Calcula el tiempo de ejecución\n",
    "execution_time = end_time - start_time\n",
    "# Calcula el uso de memoria\n",
    "memory_used = max(mem_usage) - min(mem_usage)\n",
    "\n",
    "# Imprime los resultados\n",
    "print(f\"Tiempo de ejecución: {execution_time:.2f} segundos\")\n",
    "print(f\"Uso de memoria: {memory_used:.2f} MiB\")"
   ]
  },
  {
   "cell_type": "markdown",
   "metadata": {},
   "source": [
    "### 5.4 Suposiciones y Consideraciones\n",
    "\n",
    "1. **Formato de Archivo**: Se asume que el archivo JSON está bien formado y cada línea representa un tweet válido.\n",
    "2. **Estructura del JSON**: Se espera que cada tweet contenga la clave `mentionedUsers`, que es una lista de usuarios mencionados.\n",
    "3. **Manejo de Errores**: La función incluye manejos básicos de errores para asegurar que los problemas en el archivo no causen que la función falle completamente.\n",
    "4. **Eficiencia**: Se utiliza `Counter` para facilitar el conteo de menciones de usuarios, lo que permite obtener resultados rápidamente.\n"
   ]
  },
  {
   "cell_type": "markdown",
   "metadata": {},
   "source": [
    "# 6. Análisis de Menciones en Tweets: Función `q3_time`\n",
    "\n",
    "Esta sección contiene la implementación y análisis de la función `q3_time`, que procesa un archivo de tweets en formato JSON para contar la cantidad de menciones de usuarios. El objetivo es identificar los 10 usuarios más mencionados en un conjunto de datos de tweets enfocado en optimizar el tiempo de ejecución.\n"
   ]
  },
  {
   "cell_type": "code",
   "execution_count": 59,
   "metadata": {},
   "outputs": [],
   "source": [
    "# Importaciones necesarias\n",
    "from typing import List, Tuple\n",
    "import json\n",
    "from collections import defaultdict\n",
    "import time\n",
    "from memory_profiler import memory_usage"
   ]
  },
  {
   "cell_type": "markdown",
   "metadata": {},
   "source": [
    "## Descripción de la Función `q3_time`\n",
    "\n",
    "La función `q3_time` toma como entrada la ruta de un archivo que contiene tweets en formato JSON. Su propósito es:\n",
    "- Leer el archivo línea por línea.\n",
    "- Contar cuántas veces se menciona a cada usuario en los tweets.\n",
    "- Retornar los 10 usuarios más mencionados.\n",
    "\n",
    "### Parámetros\n",
    "- `file_path`: Ruta del archivo que contiene los tweets.\n",
    "\n",
    "### Retorno\n",
    "- Una lista de tuplas, donde cada tupla contiene el nombre de usuario y el número de menciones.\n"
   ]
  },
  {
   "cell_type": "markdown",
   "metadata": {},
   "source": [
    "### 6.1 Implementación de la función:"
   ]
  },
  {
   "cell_type": "code",
   "execution_count": 61,
   "metadata": {},
   "outputs": [],
   "source": [
    "def q3_time(file_path: str) -> List[Tuple[str, int]]:\n",
    "    # Inicializa un diccionario para contar menciones de usuarios\n",
    "    mention_counts = defaultdict(int)\n",
    "\n",
    "    try:\n",
    "        # Lectura del archivo línea por línea para no cargar todo en memoria\n",
    "        with open(file_path, 'r', encoding='utf-8') as file:\n",
    "            for line in file:\n",
    "                if line.strip():  # Procesar solo líneas no vacías\n",
    "                    try:\n",
    "                        # Intenta decodificar la línea como JSON\n",
    "                        tweet = json.loads(line.strip())\n",
    "                        # Obtención de usuarios mencionados en cada tweet\n",
    "                        mentioned_users = tweet.get(\"mentionedUsers\", [])\n",
    "                        \n",
    "                        # Verifica si hay usuarios mencionados\n",
    "                        if mentioned_users:  \n",
    "                            for user in mentioned_users:\n",
    "                                # Extrae el nombre de usuario de cada mención\n",
    "                                username = user.get(\"username\")\n",
    "                                if username:  # Asegúrate de que el nombre de usuario no esté vacío\n",
    "                                    mention_counts[username] += 1  # Incrementa el contador para el usuario\n",
    "\n",
    "                    except json.JSONDecodeError as e:\n",
    "                        # Captura errores de decodificación JSON\n",
    "                        print(f\"Error al decodificar JSON en la línea: {line}. Error: {e}\")\n",
    "                    except KeyError as e:\n",
    "                        # Captura errores de claves faltantes\n",
    "                        print(f\"Error: Falta la clave esperada {e} en el tweet: {tweet}\")\n",
    "                    except Exception as e:\n",
    "                        # Captura cualquier otro error inesperado\n",
    "                        print(f\"Error inesperado al procesar la línea: {line}. Error: {e}\")\n",
    "\n",
    "    except FileNotFoundError:\n",
    "        # Manejo de archivo no encontrado\n",
    "        print(f\"Error: El archivo {file_path} no fue encontrado.\")\n",
    "        return []\n",
    "    except Exception as e:\n",
    "        # Manejo de errores inesperados al abrir el archivo\n",
    "        print(f\"Error inesperado al abrir el archivo: {e}\")\n",
    "        return []\n",
    "\n",
    "    # Obtener los 10 usuarios más mencionados\n",
    "    top_influential = sorted(mention_counts.items(), key=lambda item: item[1], reverse=True)[:10]\n",
    "    \n",
    "    return top_influential"
   ]
  },
  {
   "cell_type": "markdown",
   "metadata": {},
   "source": [
    "### 6.2 Ejecución función q3_memory"
   ]
  },
  {
   "cell_type": "code",
   "execution_count": 62,
   "metadata": {},
   "outputs": [
    {
     "data": {
      "text/plain": [
       "[('narendramodi', 2265),\n",
       " ('Kisanektamorcha', 1840),\n",
       " ('RakeshTikaitBKU', 1644),\n",
       " ('PMOIndia', 1427),\n",
       " ('RahulGandhi', 1146),\n",
       " ('GretaThunberg', 1048),\n",
       " ('RaviSinghKA', 1019),\n",
       " ('rihanna', 986),\n",
       " ('UNHumanRights', 962),\n",
       " ('meenaharris', 926)]"
      ]
     },
     "execution_count": 62,
     "metadata": {},
     "output_type": "execute_result"
    }
   ],
   "source": [
    "result = q3_time(file_path)\n",
    "result"
   ]
  },
  {
   "cell_type": "markdown",
   "metadata": {},
   "source": [
    "### 6.3 Medición del Tiempo de Ejecución y uso de memoria"
   ]
  },
  {
   "cell_type": "code",
   "execution_count": 89,
   "metadata": {},
   "outputs": [
    {
     "name": "stdout",
     "output_type": "stream",
     "text": [
      "Tiempo de ejecución: 2.36 segundos\n",
      "Uso de memoria: 0.56 MiB\n"
     ]
    }
   ],
   "source": [
    "# Comienza a medir el tiempo de ejecución\n",
    "start_time = time.time()\n",
    "\n",
    "# Medición del uso de memoria: pasa la función y los argumentos como una tupla\n",
    "mem_usage = memory_usage((q3_time, (file_path,)), interval=0.1)\n",
    "\n",
    "# Termina la medición de tiempo\n",
    "end_time = time.time()\n",
    "\n",
    "# Calcula el tiempo de ejecución\n",
    "execution_time = end_time - start_time\n",
    "# Calcula el uso de memoria\n",
    "memory_used = max(mem_usage) - min(mem_usage)\n",
    "\n",
    "# Imprime los resultados\n",
    "print(f\"Tiempo de ejecución: {execution_time:.2f} segundos\")\n",
    "print(f\"Uso de memoria: {memory_used:.2f} MiB\")"
   ]
  },
  {
   "cell_type": "markdown",
   "metadata": {},
   "source": [
    "### 6.4 Suposiciones y Consideraciones\n",
    "\n",
    "1. **Formato de Archivo**: Se asume que el archivo JSON está bien formado y cada línea representa un tweet válido.\n",
    "2. **Estructura del JSON**: Se espera que cada tweet contenga la clave `mentionedUsers` con una lista de usuarios mencionados, y que cada usuario tenga la clave `username`.\n",
    "3. **Manejo de Errores**: La función incluye manejos básicos de errores para asegurar que los problemas en el archivo no causen que la función falle completamente.\n",
    "4. **Eficiencia**: La función utiliza `defaultdict` para contar menciones de manera eficiente sin necesidad de inicializar explícitamente cada cuenta.\n"
   ]
  },
  {
   "cell_type": "markdown",
   "metadata": {},
   "source": [
    "# 7. Comparación soluciones q_memory vs q_time"
   ]
  },
  {
   "cell_type": "markdown",
   "metadata": {},
   "source": [
    "## 7.1 Top 10 fechas con mas tweets: `q1_memory` vs `q1_time`\n",
    "\n",
    "## Función `q1_memory`\n",
    "\n",
    "La función `q1_memory` está diseñada para optimizar el uso de memoria al utilizar un enfoque de agregación eficiente:\n",
    "\n",
    "1. **Uso de `defaultdict` y `Counter`:** La función emplea `defaultdict` de `collections`, que permite la inicialización automática de un diccionario de contadores (`Counter`). Esto reduce la necesidad de verificar la existencia de claves antes de incrementar el conteo, lo que ahorra espacio en memoria al evitar la creación de diccionarios temporales innecesarios.\n",
    "\n",
    "2. **Lectura por línea con `islice`:** Utiliza `islice` para leer el archivo línea por línea, lo que permite procesar grandes archivos sin cargar todo el contenido en memoria de una sola vez. Esto es particularmente útil para manejar archivos de gran tamaño y evita picos de uso de memoria.\n",
    "\n",
    "3. **Retención de información mínima:** La función solo mantiene los datos necesarios para calcular el número de tweets por fecha y usuario. Una vez que se obtiene el conteo, se descartan los datos intermedios, lo que minimiza la huella de memoria.\n",
    "\n",
    "4. **Agrupación por fecha y usuario:** Los datos se agrupan en una estructura jerárquica (fecha -> usuario -> conteo), lo que permite realizar cálculos de resumen de manera eficiente y solo retener los 10 días con más tweets.\n",
    "\n",
    "5. **Salida final simplificada:** La función devuelve solo las fechas y los usuarios más activos, eliminando datos intermedios que no son necesarios para el resultado final.\n",
    "\n",
    "## Función `q1_time`\n",
    "\n",
    "Por otro lado, la función `q1_time` prioriza el tiempo de ejecución a través de optimizaciones en el procesamiento y manejo de datos:\n",
    "\n",
    "1. **Uso de `defaultdict` para conteo directo:** Similar a `q1_memory`, esta función utiliza `defaultdict` pero con un enfoque de contadores simples. Esto permite incrementar el conteo de tweets de manera directa, lo que mejora la velocidad de acceso y actualización en comparación con estructuras de datos más complejas.\n",
    "\n",
    "2. **Lectura directa del archivo:** La función itera directamente sobre las líneas del archivo sin el uso de herramientas como `islice`, lo que puede resultar en una lectura más rápida en archivos de menor tamaño. Sin embargo, para archivos grandes, este enfoque puede aumentar el uso de memoria si no se maneja adecuadamente.\n",
    "\n",
    "3. **Uso de `heapq` para mantener los 10 días más relevantes:** Se implementa un heap para mantener solo los 10 días con más tweets. Esto permite realizar inserciones y eliminaciones de manera eficiente, reduciendo la complejidad del algoritmo para determinar los días más activos.\n",
    "\n",
    "4. **Cálculo del usuario más activo:** Utiliza `max()` para encontrar el usuario con el mayor conteo de tweets de manera eficiente, lo que ahorra tiempo de ejecución al evitar la necesidad de ordenar todos los usuarios.\n",
    "\n",
    "5. **Evita operaciones innecesarias:** La función evita mantener listas intermedias de fechas y usuarios, enfocándose directamente en el cálculo de resultados, lo que mejora el rendimiento general.\n",
    "\n",
    "## Resumen\n",
    "\n",
    "En resumen, la función `q1_memory` está optimizada para el uso de memoria al procesar datos de manera eficiente y mantener solo la información esencial, mientras que `q1_time` está optimizada para la velocidad de ejecución mediante el uso de estructuras de datos adecuadas y métodos de procesamiento que minimizan el tiempo de cálculo. Ambas funciones son efectivas en su contexto específico, logrando así sus objetivos de optimización.\n"
   ]
  },
  {
   "cell_type": "markdown",
   "metadata": {},
   "source": [
    "## 7.2 Optimización de Funciones para Contar Emojis en Tweets: `q2_memory` vs `q2_time`\n",
    "\n",
    "## Función `q2_memory`\n",
    "\n",
    "La función `q2_memory` está diseñada para optimizar el uso de memoria durante el conteo de emojis en un conjunto de tweets:\n",
    "\n",
    "1. **Uso de `Counter`:** Se utiliza `Counter` de la biblioteca `collections` para llevar un registro de la frecuencia de cada emoji. Esta estructura es eficiente para contar elementos y permite actualizaciones rápidas.\n",
    "\n",
    "2. **Lectura eficiente del archivo:** La función abre el archivo en modo lectura con codificación UTF-8 y itera línea por línea. Esto evita la carga completa del archivo en memoria, permitiendo manejar archivos grandes sin aumentar el uso de memoria innecesariamente.\n",
    "\n",
    "3. **Manejo de errores:** Se implementan bloques `try-except` para capturar y manejar errores de decodificación JSON y otros errores inesperados. Esto asegura que la función siga ejecutándose a pesar de encontrar líneas problemáticas.\n",
    "\n",
    "4. **Contar emojis:** La función extrae el contenido de cada tweet y utiliza `emoji.emoji_list()` para obtener los emojis presentes, actualizando el contador para cada uno. Este enfoque es directo y optimiza la recolección de datos.\n",
    "\n",
    "5. **Resultados simplificados:** Al final, la función devuelve los 10 emojis más comunes, proporcionando un resumen conciso de los datos procesados y evitando el almacenamiento de información innecesaria.\n",
    "\n",
    "## Función `q2_time`\n",
    "\n",
    "Por otro lado, la función `q2_time` está optimizada para el tiempo de ejecución, priorizando la rapidez en el procesamiento de datos:\n",
    "\n",
    "1. **Contador para emojis:** Al igual que `q2_memory`, esta función utiliza `Counter` para almacenar la frecuencia de los emojis, lo que permite realizar actualizaciones rápidas durante la iteración.\n",
    "\n",
    "2. **Lectura directa del archivo:** La función también abre el archivo en modo lectura con codificación UTF-8, pero maneja la carga del contenido de manera que optimiza el tiempo de acceso.\n",
    "\n",
    "3. **Manejo de excepciones:** Se implementan bloques de captura de errores similares a los de `q2_memory`, lo que permite manejar problemas con la estructura de datos de los tweets sin interrumpir el flujo de procesamiento.\n",
    "\n",
    "4. **Actualización de contadores:** La función utiliza una lista comprensiva para recopilar todos los emojis encontrados en cada tweet y actualiza el contador usando `emoji_counter.update()`. Esto puede resultar en un procesamiento más rápido al evitar múltiples llamadas de actualización.\n",
    "\n",
    "5. **Resultado final:** Al igual que en la función anterior, devuelve los 10 emojis más comunes, pero lo hace de manera que se optimiza el tiempo de ejecución al minimizar operaciones redundantes.\n",
    "\n",
    "## Resumen\n",
    "\n",
    "En resumen, la función `q2_memory` está optimizada para el uso eficiente de la memoria al procesar los datos, mientras que `q2_time` se centra en la velocidad de ejecución. Ambas funciones son efectivas para contar la frecuencia de los emojis en los tweets, adaptándose a diferentes necesidades de rendimiento.\n"
   ]
  },
  {
   "cell_type": "markdown",
   "metadata": {},
   "source": [
    "## 7.3 Optimización de Funciones para Contar Menciones de Usuarios en Tweets: `q3_memory` vs `q3_time`\n",
    "\n",
    "## Función `q3_memory`\n",
    "\n",
    "La función `q3_memory` está diseñada para contar las menciones de usuarios en un conjunto de tweets, optimizando el uso de memoria:\n",
    "\n",
    "1. **Uso de `Counter`:** Se utiliza `Counter` de la biblioteca `collections` para llevar un registro de la frecuencia de menciones de usuarios. Esto permite realizar actualizaciones eficientes y proporciona un resumen conciso de los datos procesados.\n",
    "\n",
    "2. **Lectura eficiente del archivo:** La función abre el archivo en modo lectura con codificación UTF-8 y itera línea por línea, evitando cargar todo el archivo en memoria. Esto es crucial para manejar archivos grandes sin aumentar innecesariamente el uso de memoria.\n",
    "\n",
    "3. **Manejo de errores:** Se implementan bloques `try-except` para capturar errores durante la decodificación JSON y manejar excepciones inesperadas. Esto asegura que la función continúe ejecutándose incluso si encuentra líneas problemáticas.\n",
    "\n",
    "4. **Contar menciones de usuarios:** La función extrae la lista de usuarios mencionados en cada tweet y actualiza el contador solo si se proporciona un nombre de usuario válido. Este enfoque directo maximiza la eficiencia en la recolección de datos.\n",
    "\n",
    "5. **Resultados simplificados:** Al final, devuelve los 10 usuarios más mencionados, lo que permite obtener un resumen de los datos relevantes sin necesidad de almacenar información adicional.\n",
    "\n",
    "## Función `q3_time`\n",
    "\n",
    "Por otro lado, la función `q3_time` está optimizada para el tiempo de ejecución, centrándose en la rapidez del procesamiento de datos:\n",
    "\n",
    "1. **Uso de `defaultdict`:** Esta función utiliza un `defaultdict` de la biblioteca `collections` para contar menciones de usuarios. Esto permite inicializar automáticamente los contadores para nuevos usuarios, simplificando el código y mejorando la legibilidad.\n",
    "\n",
    "2. **Lectura directa del archivo:** Al igual que `q3_memory`, esta función abre el archivo en modo lectura con codificación UTF-8 y procesa el archivo línea por línea, evitando la carga completa en memoria.\n",
    "\n",
    "3. **Manejo de excepciones:** Se implementan bloques de captura de errores similares a los de `q3_memory`, lo que permite manejar problemas con la estructura de datos de los tweets sin interrumpir el flujo de procesamiento.\n",
    "\n",
    "4. **Actualización de contadores:** La función extrae el nombre de usuario de cada mención y actualiza el contador utilizando el `defaultdict`. Este enfoque es eficiente y asegura que solo se cuenten los nombres de usuario válidos.\n",
    "\n",
    "5. **Resultado final:** Al final, devuelve los 10 usuarios más mencionados, ordenados por frecuencia de mención. Esto permite una rápida identificación de los usuarios más influyentes en los tweets analizados.\n",
    "\n",
    "## Resumen\n",
    "\n",
    "En resumen, la función `q3_memory` está optimizada para el uso eficiente de la memoria al procesar los datos, mientras que `q3_time` se centra en la velocidad de ejecución. Ambas funciones son efectivas para contar la frecuencia de menciones de usuarios en los tweets, adaptándose a diferentes necesidades de rendimiento.\n"
   ]
  }
 ],
 "metadata": {
  "kernelspec": {
   "display_name": "venv",
   "language": "python",
   "name": "python3"
  },
  "language_info": {
   "codemirror_mode": {
    "name": "ipython",
    "version": 3
   },
   "file_extension": ".py",
   "mimetype": "text/x-python",
   "name": "python",
   "nbconvert_exporter": "python",
   "pygments_lexer": "ipython3",
   "version": "3.13.0"
  },
  "orig_nbformat": 4
 },
 "nbformat": 4,
 "nbformat_minor": 2
}
